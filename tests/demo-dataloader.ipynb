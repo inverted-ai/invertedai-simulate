{
 "cells": [
  {
   "cell_type": "markdown",
   "id": "37618895",
   "metadata": {},
   "source": [
    "![../docs/images/banner-small.png](../docs/images/banner-small.png)"
   ]
  },
  {
   "cell_type": "code",
   "execution_count": 1,
   "id": "7d671db6",
   "metadata": {},
   "outputs": [
    {
     "data": {
      "application/vnd.jupyter.widget-view+json": {
       "model_id": "57cc162dd6a5494681529ad870d4e950",
       "version_major": 2,
       "version_minor": 0
      },
      "text/plain": [
       "ToggleButtons(button_style='info', description='Source:', index=2, options=('Pypi', 'Test Pypi', 'Local Repo')…"
      ]
     },
     "metadata": {},
     "output_type": "display_data"
    }
   ],
   "source": [
    "!pip install ipywidgets\n",
    "import ipywidgets as widgets\n",
    "Package_Source = widgets.ToggleButtons(\n",
    "        options=['Pypi', 'Test Pypi', 'Local Repo'],\n",
    "        value='Local Repo',\n",
    "        description='Source:',\n",
    "        disabled=False,\n",
    "        button_style= 'info'\n",
    ")\n",
    "Package_Source"
   ]
  },
  {
   "cell_type": "code",
   "execution_count": 2,
   "id": "68f24ab6",
   "metadata": {},
   "outputs": [],
   "source": [
    "if Package_Source.value == 'pypi':\n",
    "    !pip install invertedai_simulate\n",
    "    from invertedai_simulate.utils import Res, SensorSettings, Resolution, PyGameWindow, ClientSideBoundingBoxes\n",
    "    from invertedai_simulate.dataset.env_dataset import IAIEnvDataset\n",
    "elif Package_Source.value == 'Test Pypi':\n",
    "    !pip install --extra-index-url  https://test.pypi.org/simple/ invertedai-simulate==1.0.4.dev3\n",
    "    from invertedai_simulate.utils import Res, SensorSettings, Resolution, PyGameWindow, ClientSideBoundingBoxes\n",
    "    from invertedai_simulate.dataset.env_dataset import IAIEnvDataset\n",
    "else:\n",
    "    import sys\n",
    "    sys.path.append('../invertedai_simulate')\n",
    "    from utils import Res, SensorSettings, Resolution, PyGameWindow, ClientSideBoundingBoxes\n",
    "    from dataset.env_dataset import IAIEnvDataset\n",
    "import numpy as np\n",
    "import time\n",
    "import cv2\n",
    "from IPython.display import clear_output\n",
    "import matplotlib.pyplot as plt\n",
    "import pygame\n",
    "import argparse\n",
    "clear_output()"
   ]
  },
  {
   "cell_type": "code",
   "execution_count": 3,
   "id": "b5e6f1ac",
   "metadata": {},
   "outputs": [],
   "source": [
    "def_res = Res.SD\n",
    "scale = 1\n",
    "num_cams = 2\n",
    "sensors_dict = {\n",
    "        f'cam_{ind}':{\n",
    "            'sensor_type': 'camera',\n",
    "            'camera_type': 'rgb-camera',\n",
    "            'resolution': def_res,\n",
    "            'radius': 20,\n",
    "            'occlusion': True,\n",
    "            'fov': 90.0,\n",
    "            } for ind in range(num_cams)}"
   ]
  },
  {
   "cell_type": "code",
   "execution_count": 4,
   "id": "00814d63",
   "metadata": {},
   "outputs": [
    {
     "name": "stdin",
     "output_type": "stream",
     "text": [
      "Enter server IP: localhost\n"
     ]
    },
    {
     "name": "stdout",
     "output_type": "stream",
     "text": [
      "---------- Connecting to server ----------\n",
      "Connected to prost, with ITRA-I\n"
     ]
    },
    {
     "data": {
      "application/vnd.jupyter.widget-view+json": {
       "model_id": "ae76d16b46654fb5bc7fdc01e8e0f46b",
       "version_major": 2,
       "version_minor": 0
      },
      "text/plain": [
       "Output()"
      ]
     },
     "metadata": {},
     "output_type": "display_data"
    },
    {
     "name": "stderr",
     "output_type": "stream",
     "text": [
      "/home/alireza/iai/sim/develop/tests/.venv/lib/python3.8/site-packages/ipywidgets/widgets/widget_output.py:111: DeprecationWarning: Kernel._parent_header is deprecated in ipykernel 6. Use .get_parent()\n",
      "  if ip and hasattr(ip, 'kernel') and hasattr(ip.kernel, '_parent_header'):\n"
     ]
    }
   ],
   "source": [
    "parser = argparse.ArgumentParser()\n",
    "IAIEnvDataset.add_config(parser)\n",
    "config = parser.parse_args(['--client_id', 'ford'])\n",
    "server_ip = input('Enter server IP:')\n",
    "config.zmq_server_address = f\"{server_ip}:5555\"\n",
    "world_parameters = dict(carlatown='Town04')\n",
    "dataset = IAIEnvDataset(config, 'worlddataset', sensors=sensors_dict, world_parameters=world_parameters)"
   ]
  },
  {
   "cell_type": "code",
   "execution_count": 5,
   "id": "8d507827",
   "metadata": {},
   "outputs": [
    {
     "name": "stdout",
     "output_type": "stream",
     "text": [
      "0 dict_keys(['obs']) dict_keys(['speed', 'front_image', 'birdview_image', 'command', 'compact_vector', 'prev_action', 'sensor_data'])\n",
      "1 dict_keys(['obs']) dict_keys(['speed', 'front_image', 'birdview_image', 'command', 'compact_vector', 'prev_action', 'sensor_data'])\n",
      "2 dict_keys(['obs']) dict_keys(['speed', 'front_image', 'birdview_image', 'command', 'compact_vector', 'prev_action', 'sensor_data'])\n",
      "3 dict_keys(['obs']) dict_keys(['speed', 'front_image', 'birdview_image', 'command', 'compact_vector', 'prev_action', 'sensor_data'])\n",
      "4 dict_keys(['obs']) dict_keys(['speed', 'front_image', 'birdview_image', 'command', 'compact_vector', 'prev_action', 'sensor_data'])\n",
      "5 dict_keys(['obs']) dict_keys(['speed', 'front_image', 'birdview_image', 'command', 'compact_vector', 'prev_action', 'sensor_data'])\n",
      "6 dict_keys(['obs']) dict_keys(['speed', 'front_image', 'birdview_image', 'command', 'compact_vector', 'prev_action', 'sensor_data'])\n",
      "7 dict_keys(['obs']) dict_keys(['speed', 'front_image', 'birdview_image', 'command', 'compact_vector', 'prev_action', 'sensor_data'])\n",
      "8 dict_keys(['obs']) dict_keys(['speed', 'front_image', 'birdview_image', 'command', 'compact_vector', 'prev_action', 'sensor_data'])\n",
      "9 dict_keys(['obs']) dict_keys(['speed', 'front_image', 'birdview_image', 'command', 'compact_vector', 'prev_action', 'sensor_data'])\n",
      "{'obs': {'speed': 1.361847144466986, 'front_image': array([[[135, 152, 178],\n",
      "        [131, 148, 174],\n",
      "        [123, 140, 166],\n",
      "        ...,\n",
      "        [137, 154, 180],\n",
      "        [137, 154, 180],\n",
      "        [137, 154, 180]],\n",
      "\n",
      "       [[139, 156, 182],\n",
      "        [135, 152, 178],\n",
      "        [129, 146, 172],\n",
      "        ...,\n",
      "        [137, 154, 180],\n",
      "        [137, 154, 180],\n",
      "        [137, 154, 180]],\n",
      "\n",
      "       [[143, 159, 182],\n",
      "        [128, 144, 167],\n",
      "        [135, 151, 174],\n",
      "        ...,\n",
      "        [135, 155, 180],\n",
      "        [135, 155, 180],\n",
      "        [135, 155, 180]],\n",
      "\n",
      "       ...,\n",
      "\n",
      "       [[183, 179, 178],\n",
      "        [184, 180, 179],\n",
      "        [182, 180, 179],\n",
      "        ...,\n",
      "        [164, 162, 162],\n",
      "        [129, 126, 128],\n",
      "        [129, 126, 128]],\n",
      "\n",
      "       [[183, 179, 178],\n",
      "        [183, 179, 178],\n",
      "        [183, 178, 179],\n",
      "        ...,\n",
      "        [170, 168, 168],\n",
      "        [178, 175, 177],\n",
      "        [175, 172, 174]],\n",
      "\n",
      "       [[182, 178, 177],\n",
      "        [182, 178, 177],\n",
      "        [182, 177, 178],\n",
      "        ...,\n",
      "        [172, 170, 170],\n",
      "        [173, 170, 172],\n",
      "        [174, 171, 173]]], dtype=uint8), 'birdview_image': array([[[  0,   0,   0],\n",
      "        [  0,   0,   0],\n",
      "        [  0,   0,   0],\n",
      "        ...,\n",
      "        [150, 150, 150],\n",
      "        [150, 150, 150],\n",
      "        [150, 150, 150]],\n",
      "\n",
      "       [[  0,   0,   0],\n",
      "        [  0,   0,   0],\n",
      "        [  0,   0,   0],\n",
      "        ...,\n",
      "        [150, 150, 150],\n",
      "        [150, 150, 150],\n",
      "        [150, 150, 150]],\n",
      "\n",
      "       [[  0,   0,   0],\n",
      "        [  0,   0,   0],\n",
      "        [  0,   0,   0],\n",
      "        ...,\n",
      "        [150, 150, 150],\n",
      "        [150, 150, 150],\n",
      "        [150, 150, 150]],\n",
      "\n",
      "       ...,\n",
      "\n",
      "       [[  0,   0,   0],\n",
      "        [  0,   0,   0],\n",
      "        [  0,   0,   0],\n",
      "        ...,\n",
      "        [  0,   0,   0],\n",
      "        [  0,   0,   0],\n",
      "        [  0,   0,   0]],\n",
      "\n",
      "       [[  0,   0,   0],\n",
      "        [  0,   0,   0],\n",
      "        [  0,   0,   0],\n",
      "        ...,\n",
      "        [  0,   0,   0],\n",
      "        [  0,   0,   0],\n",
      "        [  0,   0,   0]],\n",
      "\n",
      "       [[  0,   0,   0],\n",
      "        [  0,   0,   0],\n",
      "        [  0,   0,   0],\n",
      "        ...,\n",
      "        [  0,   0,   0],\n",
      "        [  0,   0,   0],\n",
      "        [  0,   0,   0]]], dtype=uint8), 'command': 'continue', 'compact_vector': array([-4.97869873e+01,  3.72003860e+01,  1.01485548e+01,  1.72342049e-02,\n",
      "        2.64432609e-02,  3.48528562e-04,  1.36184714e+00,  2.00000000e+01,\n",
      "       -4.76899071e+01,  3.73893929e+01,  1.00000000e+00]), 'prev_action': (1.0, 0.09874786591964183), 'sensor_data': {'cam_0': {'image': array([[[233, 230, 232],\n",
      "        [234, 231, 233],\n",
      "        [234, 231, 233],\n",
      "        ...,\n",
      "        [134, 143, 163],\n",
      "        [134, 143, 163],\n",
      "        [134, 143, 163]],\n",
      "\n",
      "       [[233, 230, 232],\n",
      "        [234, 231, 233],\n",
      "        [234, 231, 233],\n",
      "        ...,\n",
      "        [134, 143, 163],\n",
      "        [134, 143, 163],\n",
      "        [134, 143, 163]],\n",
      "\n",
      "       [[234, 231, 233],\n",
      "        [234, 231, 233],\n",
      "        [234, 231, 233],\n",
      "        ...,\n",
      "        [134, 143, 163],\n",
      "        [133, 142, 162],\n",
      "        [133, 142, 162]],\n",
      "\n",
      "       ...,\n",
      "\n",
      "       [[ 94,  98,  57],\n",
      "        [ 93,  97,  56],\n",
      "        [ 92,  96,  54],\n",
      "        ...,\n",
      "        [138, 147, 144],\n",
      "        [145, 153, 153],\n",
      "        [140, 148, 148]],\n",
      "\n",
      "       [[ 96,  98,  56],\n",
      "        [ 95,  97,  55],\n",
      "        [ 93,  97,  55],\n",
      "        ...,\n",
      "        [144, 157, 149],\n",
      "        [137, 149, 143],\n",
      "        [141, 153, 147]],\n",
      "\n",
      "       [[ 94,  96,  54],\n",
      "        [ 94,  96,  54],\n",
      "        [ 92,  96,  54],\n",
      "        ...,\n",
      "        [141, 158, 145],\n",
      "        [143, 158, 150],\n",
      "        [139, 154, 146]]], dtype=uint8), 'bounding_boxes': {}}, 'boundingbox_cam_0': {'bounding_boxes': {'traffic-lights': {}}}, 'cam_1': {'image': array([[[147, 158, 180],\n",
      "        [147, 158, 180],\n",
      "        [147, 158, 180],\n",
      "        ...,\n",
      "        [151, 160, 180],\n",
      "        [151, 160, 180],\n",
      "        [151, 160, 180]],\n",
      "\n",
      "       [[147, 158, 180],\n",
      "        [147, 158, 180],\n",
      "        [147, 158, 180],\n",
      "        ...,\n",
      "        [151, 160, 180],\n",
      "        [151, 160, 180],\n",
      "        [151, 160, 180]],\n",
      "\n",
      "       [[147, 158, 180],\n",
      "        [147, 158, 180],\n",
      "        [147, 158, 180],\n",
      "        ...,\n",
      "        [151, 160, 180],\n",
      "        [150, 159, 179],\n",
      "        [150, 159, 179]],\n",
      "\n",
      "       ...,\n",
      "\n",
      "       [[ 70,  73,  71],\n",
      "        [ 78,  81,  79],\n",
      "        [ 71,  74,  72],\n",
      "        ...,\n",
      "        [101, 108,  71],\n",
      "        [ 90,  95,  56],\n",
      "        [ 75,  80,  41]],\n",
      "\n",
      "       [[ 74,  76,  76],\n",
      "        [ 71,  73,  73],\n",
      "        [ 66,  66,  66],\n",
      "        ...,\n",
      "        [113, 119,  94],\n",
      "        [ 90,  95,  68],\n",
      "        [ 90,  94,  65]],\n",
      "\n",
      "       [[ 76,  78,  79],\n",
      "        [ 69,  71,  72],\n",
      "        [ 69,  69,  69],\n",
      "        ...,\n",
      "        [122, 129, 108],\n",
      "        [103, 105,  85],\n",
      "        [ 97, 100,  78]]], dtype=uint8), 'bounding_boxes': {}}, 'boundingbox_cam_1': {'bounding_boxes': {'traffic-lights': {}}}}}}\n"
     ]
    }
   ],
   "source": [
    "data = iter(dataset)\n",
    "for i in range (10):\n",
    "    item = next(data)\n",
    "    print(i, item.keys(), item['obs'].keys())\n",
    "print(item)"
   ]
  },
  {
   "cell_type": "code",
   "execution_count": 6,
   "id": "c817eba9",
   "metadata": {},
   "outputs": [
    {
     "name": "stdout",
     "output_type": "stream",
     "text": [
      "isp (Python): zmq.REP socket disconnected from server tcp://localhost:5555\n"
     ]
    }
   ],
   "source": [
    "dataset.close()"
   ]
  },
  {
   "cell_type": "code",
   "execution_count": null,
   "id": "9117954a",
   "metadata": {},
   "outputs": [],
   "source": []
  }
 ],
 "metadata": {
  "kernelspec": {
   "display_name": "Python 3 (ipykernel)",
   "language": "python",
   "name": "python3"
  },
  "language_info": {
   "codemirror_mode": {
    "name": "ipython",
    "version": 3
   },
   "file_extension": ".py",
   "mimetype": "text/x-python",
   "name": "python",
   "nbconvert_exporter": "python",
   "pygments_lexer": "ipython3",
   "version": "3.8.11"
  },
  "name": "usr-demo.ipynb"
 },
 "nbformat": 4,
 "nbformat_minor": 5
}
