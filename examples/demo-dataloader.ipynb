{
 "cells": [
  {
   "cell_type": "markdown",
   "id": "37618895",
   "metadata": {},
   "source": [
    "![../docs/images/banner.png](../docs/images/banner.png)\n",
    "\n",
    "\n",
    "# [Contact Us](mailto:info@inverted.ai) for the server ip address."
   ]
  },
  {
   "cell_type": "code",
   "execution_count": null,
   "id": "7d671db6",
   "metadata": {},
   "outputs": [],
   "source": [
    "! pip install invertedai_simulate\n",
    "from IPython.display import clear_output\n",
    "clear_output()"
   ]
  },
  {
   "cell_type": "code",
   "execution_count": null,
   "id": "68f24ab6",
   "metadata": {},
   "outputs": [],
   "source": [
    "from invertedai_simulate.dataset.env_dataset import IAIEnvDataset\n",
    "from invertedai_simulate.utils import Res, SensorSettings, Resolution, PyGameWindow, ClientSideBoundingBoxes\n",
    "import numpy as np\n",
    "import time\n",
    "import cv2\n",
    "from IPython.display import clear_output\n",
    "import matplotlib.pyplot as plt\n",
    "import pygame\n",
    "import argparse"
   ]
  },
  {
   "cell_type": "code",
   "execution_count": null,
   "id": "b5e6f1ac",
   "metadata": {},
   "outputs": [],
   "source": [
    "def_res = Res.SD\n",
    "scale = 1\n",
    "num_cams = 2\n",
    "sensors_dict = {\n",
    "        f'cam_{ind}':{\n",
    "            'sensor_type': 'camera',\n",
    "            'camera_type': 'rgb-camera',\n",
    "            'resolution': def_res,\n",
    "            'radius': 20,\n",
    "            'occlusion': True,\n",
    "            'fov': 90.0,\n",
    "            } for ind in range(num_cams)}"
   ]
  },
  {
   "cell_type": "code",
   "execution_count": null,
   "id": "00814d63",
   "metadata": {},
   "outputs": [],
   "source": [
    "parser = argparse.ArgumentParser()\n",
    "IAIEnvDataset.add_config(parser)\n",
    "config = parser.parse_args(['--client_id', 'ford', '--enable_progress_spinner', '0'])\n",
    "server_ip = input('Enter server IP:')\n",
    "config.zmq_server_address = f\"{server_ip}:5555\"\n",
    "world_parameters = dict(carlatown='Town04')\n",
    "dataset = IAIEnvDataset(config, 'worlddataset', sensors=sensors_dict, world_parameters=world_parameters)"
   ]
  },
  {
   "cell_type": "code",
   "execution_count": null,
   "id": "8d507827",
   "metadata": {},
   "outputs": [],
   "source": [
    "data = iter(dataset)\n",
    "for i in range (10):\n",
    "    item = next(data)\n",
    "    print(i, item.keys(), item['obs'].keys())\n",
    "print(item)"
   ]
  },
  {
   "cell_type": "code",
   "execution_count": 5,
   "id": "c817eba9",
   "metadata": {},
   "outputs": [
    {
     "name": "stdout",
     "output_type": "stream",
     "text": [
      "isp (Python): zmq.REP socket disconnected from server tcp://localhost:5555\n",
      "\r"
     ]
    }
   ],
   "source": [
    "dataset.close()"
   ]
  },
  {
   "cell_type": "code",
   "execution_count": null,
   "id": "9117954a",
   "metadata": {},
   "outputs": [],
   "source": []
  }
 ],
 "metadata": {
  "kernelspec": {
   "display_name": "Python 3 (ipykernel)",
   "language": "python",
   "name": "python3"
  },
  "language_info": {
   "codemirror_mode": {
    "name": "ipython",
    "version": 3
   },
   "file_extension": ".py",
   "mimetype": "text/x-python",
   "name": "python",
   "nbconvert_exporter": "python",
   "pygments_lexer": "ipython3",
   "version": "3.8.10"
  },
  "name": "usr-demo.ipynb"
 },
 "nbformat": 4,
 "nbformat_minor": 5
}
