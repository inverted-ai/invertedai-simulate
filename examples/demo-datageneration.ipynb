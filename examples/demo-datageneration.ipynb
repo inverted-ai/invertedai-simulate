{
 "cells": [
  {
   "cell_type": "markdown",
   "id": "37618895",
   "metadata": {},
   "source": [
    "![../docs/images/banner.png](../docs/images/banner.png)\n",
    "\n",
    "\n",
    "# [Contact Us](mailto:info@inverted.ai) for the server ip address."
   ]
  },
  {
   "cell_type": "code",
   "execution_count": null,
   "id": "4c30af68",
   "metadata": {},
   "outputs": [],
   "source": [
    "! pip install invertedai_client\n",
    "from IPython.display import clear_output\n",
    "clear_output()"
   ]
  },
  {
   "cell_type": "code",
   "execution_count": null,
   "id": "68f24ab6",
   "metadata": {},
   "outputs": [],
   "source": [
    "from invertedai_client.utils import Res, SensorSettings, Resolution, PyGameWindow, ClientSideBoundingBoxes\n",
    "from invertedai_client.interface import IAIEnv, ServerTimeoutError\n",
    "import numpy as np\n",
    "import time\n",
    "import cv2\n",
    "from IPython.display import clear_output\n",
    "import matplotlib.pyplot as plt\n",
    "import pygame\n",
    "import argparse"
   ]
  },
  {
   "cell_type": "code",
   "execution_count": null,
   "id": "b5e6f1ac",
   "metadata": {},
   "outputs": [],
   "source": [
    "def_res = Res.SD\n",
    "scale = 1\n",
    "num_cams = 2\n",
    "sensors_dict = {\n",
    "        f'cam_{ind}':{\n",
    "            'sensor_type': 'camera',\n",
    "            'camera_type': 'rgb-camera',\n",
    "            'resolution': def_res,\n",
    "            'radius': 20,\n",
    "            'occlusion': True,\n",
    "            'fov': 90.0,\n",
    "            } for ind in range(num_cams)}"
   ]
  },
  {
   "cell_type": "code",
   "execution_count": null,
   "id": "00814d63",
   "metadata": {},
   "outputs": [],
   "source": [
    "parser = argparse.ArgumentParser()\n",
    "IAIEnv.add_config(parser)\n",
    "config = parser.parse_args(['--client_id', 'ford'])\n",
    "server_ip = input('Enter server IP:')\n",
    "config.zmq_server_address = f\"{server_ip}:5555\"\n",
    "world_parameters = dict(carlatown='Town04')\n",
    "scenario_parameters = dict(camera_location_variation=SensorSettings.Location(x=1, z=1, y=1),\n",
    "                           camera_rotation_variation=SensorSettings.Rotation(yaw=10, pitch=10, roll=10))\n",
    "obs = None\n",
    "while obs is None:\n",
    "    env = IAIEnv(config)\n",
    "    try:\n",
    "        obs = env.set_scenario('worlddataset', world_parameters=world_parameters, scenario_parameters=scenario_parameters, sensors=sensors_dict)\n",
    "    except ServerTimeoutError as e:\n",
    "        print(f'Server timed out, retrying ...')\n",
    "        env.close()\n",
    "        continue"
   ]
  },
  {
   "cell_type": "code",
   "execution_count": null,
   "id": "feffb67e",
   "metadata": {},
   "outputs": [],
   "source": [
    "pygame.init()\n",
    "\n",
    "dim = (scale*def_res.width, scale*def_res.height)\n",
    "width = np.sum([sensors_dict[sns]['resolution'].width*scale for sns in sensors_dict if sensors_dict[sns]['sensor_type']=='camera'])\n",
    "height = np.max([sensors_dict[sns]['resolution'].height*scale for sns in sensors_dict if sensors_dict[sns]['sensor_type']=='camera'])\n",
    "full_res = Resolution(width, height)\n",
    "main_display = PyGameWindow(full_res)\n",
    "##"
   ]
  },
  {
   "cell_type": "code",
   "execution_count": null,
   "id": "dbb7e357",
   "metadata": {
    "scrolled": true
   },
   "outputs": [],
   "source": [
    "action = [0.0, 0.0]\n",
    "obs, reward, done, info = env.step(action)\n",
    "disp_img = np.concatenate(list(cv2.resize(obs['sensor_data'][name]['image'], dim, interpolation = cv2.INTER_AREA) for name in sensors_dict if 'image' in obs['sensor_data'][name].keys()), axis=1)\n",
    "main_display.render(disp_img)\n",
    "pygame.display.update()\n",
    "rem_self = 0\n",
    "howlong = 0\n",
    "while not done:\n",
    "    prev_action = obs['prev_action']\n",
    "    if rem_self < howlong:\n",
    "        action = info['expert_action']\n",
    "        obs, reward, done, info = env.step(action)\n",
    "        rem_self += 1\n",
    "    else:\n",
    "        cmd = input('Enter Steering:')\n",
    "        if cmd == 'reset':\n",
    "            obs = env.reset()\n",
    "            jupyter_render(obs)\n",
    "        elif cmd == 'init':\n",
    "            obs = env.set_scenario('worlddataset', world_parameters=world_parameters, scenario_parameters=scenario_parameters, sensors=sensors_dict)\n",
    "        elif cmd == 'end':\n",
    "            print(env.end_simulation())\n",
    "            break\n",
    "        elif cmd == 'self':\n",
    "            howlong = int(input('How many steps:'))\n",
    "            rem_self = 0\n",
    "        else:\n",
    "            angle = float(cmd)\n",
    "            acceleration = float(input('Enter Acceleration:'))\n",
    "            action = (acceleration, angle)\n",
    "            obs, reward, done, info = env.step(action)\n",
    "    clear_output(wait=True)\n",
    "    for attached_sensor in sensors_dict:\n",
    "        name = 'boundingbox_'+attached_sensor\n",
    "        if (name in obs['sensor_data']):\n",
    "            bb2d = ClientSideBoundingBoxes.get_2d_bbox(obs['sensor_data'][name]['bounding_boxes'], 0, 0, sensors_dict[attached_sensor]['fov'], sensors_dict[attached_sensor]['resolution'], obs['compact_vector'][:3], obs['compact_vector'][3:6], coordinate_system='attached_sensor', occlusion=True)\n",
    "            img = obs['sensor_data'][attached_sensor]['image']\n",
    "            obs['sensor_data'][attached_sensor]['image'] = ClientSideBoundingBoxes.draw_bounding_boxes_on_array(img, bb2d, draw2d=False, occlusion=True)\n",
    "\n",
    "   \n",
    "    disp_img = np.concatenate(list(cv2.resize(obs['sensor_data'][name]['image'], dim, interpolation = cv2.INTER_AREA) for name in sensors_dict if 'image' in obs['sensor_data'][name].keys()), axis=1)\n",
    "    main_display.render(disp_img)\n",
    "    pygame.display.update()\n",
    "\n",
    "print(f'Episode Done, Reward:{reward}')\n"
   ]
  },
  {
   "cell_type": "code",
   "execution_count": null,
   "id": "37f6e988",
   "metadata": {},
   "outputs": [],
   "source": [
    "print(env.end_simulation())\n",
    "env.close()"
   ]
  }
 ],
 "metadata": {
  "kernelspec": {
   "display_name": "Python 3 (ipykernel)",
   "language": "python",
   "name": "python3"
  },
  "language_info": {
   "codemirror_mode": {
    "name": "ipython",
    "version": 3
   },
   "file_extension": ".py",
   "mimetype": "text/x-python",
   "name": "python",
   "nbconvert_exporter": "python",
   "pygments_lexer": "ipython3",
   "version": "3.8.10"
  },
  "name": "usr-demo.ipynb"
 },
 "nbformat": 4,
 "nbformat_minor": 5
}
